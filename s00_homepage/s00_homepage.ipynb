{
 "cells": [
  {
   "cell_type": "markdown",
   "metadata": {},
   "source": [
    "# Plotly's Python API User Guide"
   ]
  },
  {
   "cell_type": "markdown",
   "metadata": {},
   "source": [
    "## Analyze and visualize data, together."
   ]
  },
  {
   "cell_type": "markdown",
   "metadata": {},
   "source": [
    "<br>\n",
    "\n",
    "<img src=\"http://imgur.com/DZZfo6T.jpg\" alt=\"Plotly tinkerbell\" height=400px/>\n",
    "\n",
    "<br>"
   ]
  },
  {
   "cell_type": "markdown",
   "metadata": {},
   "source": [
    "### What is Plotly?"
   ]
  },
  {
   "cell_type": "markdown",
   "metadata": {},
   "source": [
    "Answer from Plotly CEO & Co-Founder Jack Parmer:\n",
    "\n",
    "> Plotly is like graphing crack. It standardizes the graphing interface across scientific computing languages (Python, R, MATLAB, etc) while giving rich interactivity and web shareability that has not been possible before with matplotlib, ggplot, MATLAB, etc. \n",
    "\n",
    "> On the Plotly website, you can style your graphs with a GUI, so you don't have to spend hours writing code that simply changes the legend opacity.\n",
    "\n",
    "> Plotly does this all while backing up your graphs on the cloud, so that years later, you can find data that may have otherwise been on a harddrive in a landfill. If you make your data public, other people can also find your graphs and  data. The best practice that we have today for saving and sharing research data is to entomb it as a thesis in the engineering library basement. All that is changing.\n",
    "\n",
    "> Like <a href=\"http://d3js.org/\" target=\"_blank\">d3.js</a>? Like interactive, <a href=\"https://plot.ly/~bchartoff/344/\" target=\"_blank\">NYT graphics</a>? So do we. Now, with the Plotly APIs, you can make them yourself without being an expert web programmer. If you are an expert web programmer, now you have scientific languages and tools like  R, Python, Pandas, and MATLAB instead of javascript to wrangle your data and create beautiful data vis. Science meets the world-wide-web. Engineering meets design. Let's do this."
   ]
  },
  {
   "cell_type": "markdown",
   "metadata": {},
   "source": [
    "### Why a User Guide?"
   ]
  },
  {
   "cell_type": "markdown",
   "metadata": {},
   "source": [
    "The User Guide project has the goal of giving Plotly's Python/IPython users extensive documentation on all of Plotly's features. \n",
    "\n",
    "Whereas Plotly's web <a href=\"https://plot.ly/python\" target=\"_blank\">documentation</a>  is meant to serve Plotly beginners\n",
    "just looking to make a simple plot and experienced users trying out a new plot type, \n",
    "the User Guide intends to turn beginner and intermediate Plotly users into experts.\n",
    "\n",
    "It is assumed that readers of the User Guide are *comfortable* with Python terminology (e.g. know what Python objects, lists, dictionaries and functions are). But, there is absolutely no need to be a Python guru to follow the User Guide's content."
   ]
  },
  {
   "cell_type": "markdown",
   "metadata": {},
   "source": [
    "### Table of Contents:"
   ]
  },
  {
   "cell_type": "markdown",
   "metadata": {},
   "source": [
    "The User Guide is entirely written inside <a href=\"http://ipython.org/notebook.html\" target=\"_blank\">IPython notebooks</a>. An IPython notebook is a web-based interactive computational environment where code excution, test, mathematics, plots and rich media can be combined into a single document. Big thanks to <a href=\"http://nbviewer.ipython.org/github/CamDavidsonPilon/Probabilistic-Programming-and-Bayesian-Methods-for-Hackers/blob/master/Prologue/Prologue.ipynb\" target=\"_blank\">Cam Davidson-Pilon</a> and\n",
    "<a href=\"http://lorenabarba.com/blog/announcing-aeropython/#.U1ULXdX1LJ4.google_plusone_share\" target=\"_blank\">Lorena A. Barba</a>\n",
    "for notebook styling ideas.\n",
    "\n",
    "The User Guide's Github <a href=\"https://github.com/plotly/python-user-guide\" target=\"_blank\">repository</a> is divided into folders, one for each section or appendix. Each folder contains one or several IPython notebooks and the required data files to run them. You are currently reading the User Guide's homepage.\n",
    "\n",
    "Each section is intended to be a single *lecture*. While the content is mostly divided by plot types, each lecture contains valuable examples of Plotly's customization flexibility as well as templates that users can incorporate into their own work.\n",
    "\n",
    "\n",
    "<h4 style=\"margin-top:20px;\">Current sections:</h4>\n",
    "\n",
    "* [Section 0:](https://plot.ly/python/overview) &nbsp; Getting Started with Plotly\n",
    "\n",
    "\n",
    "* [Section 1:](https://plot.ly/python/line-and-scatter-plots-tutorial) &nbsp; Line and Scatter Plots\n",
    "\n",
    "* [Section 2:](https://plot.ly/python/bar-charts-tutorial) &nbsp; Bar Charts\n",
    "\n",
    "* [Section 3:](https://plot.ly/python/bubble-charts-tutorial) &nbsp; Bubble Charts\n",
    "\n",
    "* [Section 4:](https://plot.ly/python/histograms-and-box-plots-tutorial) &nbsp; Histograms and Box Plots\n",
    "\n",
    "* [Section 5:](https://plot.ly/python/heatmaps-contours-and-2dhistograms-tutorial) &nbsp; Heatmaps, Contours and 2D Histograms \n",
    "\n",
    "* [Section 6:](https://plot.ly/python/matplotlib-to-plotly-tutorial) &nbsp; Convert your Matplotlib plots to Plotly\n",
    "\n",
    "* [Section 7:](https://plot.ly/python/streaming-tutorial) &nbsp; Plotly's Streaming API\n",
    "\n",
    "* [Section 8:](https://plot.ly/python/3d-plots-tutorial) &nbsp; 3D Plots\n",
    "\n",
    "\n",
    "* [Appendix A:](https://plot.ly/python/python-tutorial) &nbsp; Python Basics\n",
    "  \n",
    "<h4 style=\"margin-top:20px;\">Proposed future sections:</h4>\n",
    "\n",
    "* Sections ?: Polar Charts, Maps, ...\n",
    "\n",
    "* Appendices ?: Command Line, pip, IPython Primer, Useful templates, FAQ, ...\n",
    "\n",
    "* Suggestions?"
   ]
  },
  {
   "cell_type": "markdown",
   "metadata": {},
   "source": [
    "### Installation guidelines"
   ]
  },
  {
   "cell_type": "markdown",
   "metadata": {},
   "source": [
    "##### Step 1"
   ]
  },
  {
   "cell_type": "markdown",
   "metadata": {},
   "source": [
    "The User Guide assumes:\n",
    "\n",
    " * The lastest version of Plotly's Python package (see [step 3](#Step-3))\n",
    " \n",
    " * Python version 2.7.5+ or 2.7.6 with\n",
    "     - `numpy` (version 1.8.1), for all sections\n",
    "     - `pandas` (version 0.13.1), for sections 3, 5 and 7.3\n",
    "     - `scipy` (version 0.13.3), for section 4 and 7\n",
    "     - `matplotlib` (version 1.3.1), for section 6\n",
    "     \n",
    " * IPython version 2.1.0 "
   ]
  },
  {
   "cell_type": "markdown",
   "metadata": {},
   "source": [
    "##### Step 2"
   ]
  },
  {
   "cell_type": "markdown",
   "metadata": {},
   "source": [
    "Install Plotly's Python package.\n",
    "\n",
    "To do so, use the package manager \n",
    "<a href=\"https://pypi.python.org/pypi/pip\" target=\"_blank\">pip</a> inside a terminal or command prompt:\n",
    "\n",
    "  * &nbsp; &nbsp; &nbsp;&nbsp;`$ pip install plotly` \n",
    "  \n",
    "On Mac OS or Linux machines, enter:\n",
    "  \n",
    "  * &nbsp; &nbsp; &nbsp;&nbsp;`$ sudo pip install plotly` &nbsp;,&nbsp; for a system-wide install\n",
    "  * or &nbsp; `$ pip install --user plotly` &nbsp;,&nbsp; for user-only use\n",
    "  \n",
    "If you do not have pip installed on your machine, follow pip's <a href=\"https://pip.pypa.io/en/latest/installing.html\" target=\"_blank\">installation guidelines</a>."
   ]
  },
  {
   "cell_type": "markdown",
   "metadata": {},
   "source": [
    "##### Step 3"
   ]
  },
  {
   "cell_type": "markdown",
   "metadata": {},
   "source": [
    "If you already have Plotly's Python package installed, check its version, inside Python or IPython, with:"
   ]
  },
  {
   "cell_type": "code",
   "execution_count": 1,
   "metadata": {
    "collapsed": false
   },
   "outputs": [
    {
     "data": {
      "text/plain": [
       "'1.9.5'"
      ]
     },
     "execution_count": 1,
     "metadata": {},
     "output_type": "execute_result"
    }
   ],
   "source": [
    "import plotly\n",
    "\n",
    "plotly.__version__"
   ]
  },
  {
   "cell_type": "markdown",
   "metadata": {},
   "source": [
    "If not latest version (as displayed above), upgrade by running, inside a terminal/command prompt:\n",
    "\n",
    "  * &nbsp; &nbsp; &nbsp;&nbsp;`$ pip install plotly --upgrade`\n",
    "  * or &nbsp; `$ sudo pip install --upgrade`\n",
    "  * or &nbsp; `$ pip install --user plotly --upgrade`"
   ]
  },
  {
   "cell_type": "markdown",
   "metadata": {},
   "source": [
    "##### Step 4"
   ]
  },
  {
   "cell_type": "markdown",
   "metadata": {},
   "source": [
    "If you don't already have an account, sign up for Plotly:\n",
    "\n",
    "  * Go to [plot.ly](https://plot.ly/) and click on the *Sign up* button.\n",
    "\n",
    "  <img src=\"http://i.imgur.com/EHeUsiy.png\" />\n",
    "  \n",
    "After signing up, we will receive a verification email from accounts@plot.ly allowing you to receive notifications and reset your password if desired."
   ]
  },
  {
   "cell_type": "markdown",
   "metadata": {},
   "source": [
    "##### Step 5"
   ]
  },
  {
   "cell_type": "markdown",
   "metadata": {},
   "source": [
    "Get your username and API key:\n",
    "\n",
    "  * After signing in, click on the drop-down menu at the top-right corner of the page and then on the *settings* link\n",
    "  \n",
    "  <img src=\"http://i.imgur.com/RNExysW.png\" style=\"margin-top:1em; margin-bottom:1em\" />\n",
    "  \n",
    "   <br>\n",
    "  \n",
    "  * Your API key and username are listed under *API settings*.\n",
    "  \n",
    "  <img src=\"http://i.imgur.com/jV8Vcd0.png\" /> "
   ]
  },
  {
   "cell_type": "markdown",
   "metadata": {},
   "source": [
    "##### Step 6"
   ]
  },
  {
   "cell_type": "markdown",
   "metadata": {},
   "source": [
    "Although not required, we recommend setting up a *credentials* file on your machine:\n",
    "\n",
    "In Python or IPython,\n",
    "\n",
    "    >>> import plotly.tools as tls\n",
    "    >>> tls.set_credentials_file(username=\"your_username\", \n",
    "                                 api_key=\"your_api_key\")\n",
    "  \n",
    "Where the `username` and `api_key` keyword arguments are filled in with your own as found in [step 5](#Step-5).\n",
    "\n",
    "This creates a `.credentials` file in a folder called `$HOME/.plotly/` (where `$HOME` is your home directory) storing your username and API key locally in JSON file. \n",
    "\n",
    "Moreover, inside Python or IPython, with: \n",
    "\n",
    "    >>> credentials = tls.get_credentials_file()\n",
    "\n",
    "writes your Plotly credentials into a Python dictionary and assigns it to a variable."
   ]
  },
  {
   "cell_type": "markdown",
   "metadata": {},
   "source": [
    "##### Step 7"
   ]
  },
  {
   "cell_type": "markdown",
   "metadata": {},
   "source": [
    "Import the Plotly modules and sign in to Plotly from Python or IPython.\n",
    "\n",
    "In version 1.0 and up of Plotly's Python API, this requires only one line of code once your credentials file is set up:"
   ]
  },
  {
   "cell_type": "code",
   "execution_count": 2,
   "metadata": {
    "collapsed": false
   },
   "outputs": [],
   "source": [
    "# (*) Tools to communicate with Plotly's server\n",
    "import plotly.plotly as py  "
   ]
  },
  {
   "cell_type": "markdown",
   "metadata": {},
   "source": [
    "*And there you go.* You are now ready to make plots using Plotly and its Python API.\n",
    "\n",
    "While being imported, the `plotly.plotly` module looks for your credentials file on your machine and automatically uses it to sign in to Plotly's servers. \n",
    "\n",
    "Using credentials files allows users to share code without having to type in (let alone remember) their own username and API key every time they want to generate a new Plotly plot or modify an existing Plotly plot.\n",
    "\n",
    "That said, if more convenient, users can still manually sign in to Plotly by typing:\n",
    "\n",
    "    >>> py.sign_in('your_username','your_api_key')\n",
    "  \n",
    "To make the most out of the Plotly Python experience, you will end up using two other Plotly submodules. These are:"
   ]
  },
  {
   "cell_type": "code",
   "execution_count": 3,
   "metadata": {
    "collapsed": false
   },
   "outputs": [],
   "source": [
    " # (*) Useful Python/Plotly tools \n",
    "import plotly.tools as tls \n",
    "\n",
    "# (*) Graph object to piece together your Plotly plots\n",
    "from plotly.graph_objs import Figure, Data, Layout"
   ]
  },
  {
   "cell_type": "markdown",
   "metadata": {},
   "source": [
    "Where their respective features are covered in full details in the User Guide."
   ]
  },
  {
   "cell_type": "markdown",
   "metadata": {},
   "source": [
    "### How to use the User Guide?"
   ]
  },
  {
   "cell_type": "markdown",
   "metadata": {},
   "source": [
    "For users looking to use the User Guide as a static *reference*:\n",
    "\n",
    "* Read it on <a href=\"https://plot.ly/python/user-guide/\">plot.ly/python/user-guide</a>.\n",
    "\n",
    "For users looking to use the User Guide as an interactive *tutorial* (i.e. users looking to learn by running and/or modifying the code cells):\n",
    "\n",
    "* we recommend downloading the project's Github repository to your own computer.\n",
    "\n",
    "To do so, either click on the `Download ZIP` button of the User Guide's Github repository <a href=\"https://github.com/plotly/python-user-guide\" target=\"_blank\">webpage</a>:\n",
    "\n",
    "<img src=\"http://i.imgur.com/eIra2Le.png\" style=\"padding-top:1em; padding-bottom:1em;\">\n",
    "\n",
    "and unpack the `python-user-guide.zip` file.\n",
    "\n",
    "Or, use <a href=\"http://git-scm.com/book/en/Getting-Started-Installing-Git\" target=\"_blank\">git</a> in a terminal/command prompt:\n",
    "    \n",
    "    $ git clone git://github.com/plotly/python-user-guide.git"
   ]
  },
  {
   "cell_type": "markdown",
   "metadata": {},
   "source": [
    "### Want to improve the User Guide?"
   ]
  },
  {
   "cell_type": "markdown",
   "metadata": {},
   "source": [
    "While reading the User Guide, if ever you have a suggestion for a new chapter,\n",
    "you would like to include more information about a particular plot option or\n",
    "you caught some typos:\n",
    "\n",
    "* Tell us about it,\n",
    "* Or, change it yourself.\n",
    "* <a href=\"https://help.github.com/articles/fork-a-repo\" target=\"_blank\">Fork us</a> on Github! All commits are welcomed."
   ]
  },
  {
   "cell_type": "markdown",
   "metadata": {},
   "source": [
    "<hr>\n",
    "    \n",
    "Now that we are ready to start, \n",
    "    \n",
    "<h4 style=\"font-size:14pt; margin-top:1em\">Here is the link to\n",
    "\n",
    "[Section 0 --- Getting Started with Plotly](https://plot.ly/python/overview) </h4>\n",
    "\n",
    "If you are new to Python or in need of a brush up,\n",
    "\n",
    "<h4 style=\"font-size:14pt; margin-top:1em\">Here is the link to\n",
    "\n",
    "[Appendix A --- Python Basics](https://plot.ly/python/python-tutorial) </h4>\n",
    "\n",
    "\n",
    "<h4 style=\"font-size:14pt; margin-top:1.5em;\">Go to\n",
    "\n",
    "[top of page](#Plotly's-Python-API-User-Guide) </h4>\n",
    "\n",
    "<hr>"
   ]
  },
  {
   "cell_type": "markdown",
   "metadata": {},
   "source": [
    "<div style=\"float:right; \\\">\n",
    "    <img src=\"http://i.imgur.com/4vwuxdJ.png\" \n",
    " align=right style=\"float:right; margin-left: 5px; margin-top: -10px\" />\n",
    "</div>\n",
    "\n",
    "<h4>Got Questions or Feedback? </h4>\n",
    "\n",
    "About <a href=\"https://plot.ly\" target=\"_blank\">Plotly</a>\n",
    "\n",
    "* email: feedback@plot.ly \n",
    "* tweet: \n",
    "<a href=\"https://twitter.com/plotlygraphs\" target=\"_blank\">@plotlygraphs</a>\n",
    "\n",
    "About the <a href=\"https://github.com/plotly/python-user-guide\" target=\"_blank\">User Guide</a>\n",
    " \n",
    "* email: etienne@plot.ly\n",
    "* tweet: <a href=\"https://twitter.com/etpinard\" target=\"_blank\">@etpinard</a>\n",
    "\n",
    "<h4 style=\"margin-top:30px;\">Notebook styling ideas</h4>\n",
    "\n",
    "Big thanks to\n",
    "\n",
    "* <a href=\"http://nbviewer.ipython.org/github/CamDavidsonPilon/Probabilistic-Programming-and-Bayesian-Methods-for-Hackers/blob/master/Prologue/Prologue.ipynb\" target=\"_blank\">Cam Davidson-Pilon</a>\n",
    "* <a href=\"http://lorenabarba.com/blog/announcing-aeropython/#.U1ULXdX1LJ4.google_plusone_share\" target=\"_blank\">Lorena A. Barba</a>\n",
    "\n",
    "<br>"
   ]
  },
  {
   "cell_type": "code",
   "execution_count": 4,
   "metadata": {
    "collapsed": false
   },
   "outputs": [
    {
     "data": {
      "text/html": [
       "<style>\n",
       "    div.cell{\n",
       "        width: 850px;\n",
       "        margin-left: 10% !important;\n",
       "        margin-right: auto;\n",
       "    }\n",
       "    h1 {\n",
       "        font-family: \"Open sans\",verdana,arial,sans-serif;\n",
       "    }\n",
       "    .text_cell_render h1 {\n",
       "        font-weight: 200;\n",
       "        font-size: 40pt;\n",
       "        line-height: 100%;\n",
       "        color:#447adb;\n",
       "        margin-bottom: 0em;\n",
       "        margin-top: 0em;\n",
       "        display: block;\n",
       "        white-space: nowrap;\n",
       "    } \n",
       "    h2 {\n",
       "        font-family: \"Open sans\",verdana,arial,sans-serif;\n",
       "        text-indent:1em;\n",
       "    }\n",
       "    .text_cell_render h2 {\n",
       "        font-weight: 200;\n",
       "        font-size: 20pt;\n",
       "        font-style: italic;\n",
       "        line-height: 100%;\n",
       "        color:#447adb;\n",
       "        margin-bottom: 1.5em;\n",
       "        margin-top: 0.5em;\n",
       "        display: block;\n",
       "        white-space: nowrap;\n",
       "    } \n",
       "    h3 {\n",
       "        font-family: \"Open sans\",verdana,arial,sans-serif;\n",
       "    }\n",
       "    .text_cell_render h3 {\n",
       "        font-weight: 300;\n",
       "        font-size: 18pt;\n",
       "        line-height: 100%;\n",
       "        color:#447adb;\n",
       "        margin-bottom: 0.5em;\n",
       "        margin-top: 2em;\n",
       "        display: block;\n",
       "        white-space: nowrap;\n",
       "    }\n",
       "    h4 {\n",
       "        font-family: \"Open sans\",verdana,arial,sans-serif;\n",
       "    }\n",
       "    .text_cell_render h4 {\n",
       "        font-weight: 300;\n",
       "        font-size: 16pt;\n",
       "        color:#447adb;\n",
       "        margin-bottom: 0.5em;\n",
       "        margin-top: 0.5em;\n",
       "        display: block;\n",
       "        white-space: nowrap;\n",
       "    }\n",
       "    h5 {\n",
       "        font-family: \"Open sans\",verdana,arial,sans-serif;\n",
       "    }\n",
       "    .text_cell_render h5 {\n",
       "        font-weight: 300;\n",
       "        font-style: normal;\n",
       "        color: #1d3b84;\n",
       "        font-size: 16pt;\n",
       "        margin-bottom: 0em;\n",
       "        margin-top: 1.5em;\n",
       "        display: block;\n",
       "        white-space: nowrap;\n",
       "    }\n",
       "    div.text_cell_render{\n",
       "        font-family: \"Open sans\",verdana,arial,sans-serif;\n",
       "        line-height: 135%;\n",
       "        font-size: 125%;\n",
       "        width:750px;\n",
       "        margin-left:auto;\n",
       "        margin-right:auto;\n",
       "        text-align:justify;\n",
       "        text-justify:inter-word;\n",
       "    }\n",
       "    div.output_subarea.output_text.output_pyout {\n",
       "        overflow-x: auto;\n",
       "        overflow-y: scroll;\n",
       "        max-height: 300px;\n",
       "    }\n",
       "    div.output_subarea.output_stream.output_stdout.output_text {\n",
       "        overflow-x: auto;\n",
       "        overflow-y: scroll;\n",
       "        max-height: 300px;\n",
       "    }\n",
       "    div.output_subarea.output_html.rendered_html {\n",
       "        overflow-x: scroll;\n",
       "        max-width: 100%;\n",
       "      /*  overflow-y: scroll; */\n",
       "      /*  max-height: 300px;   */\n",
       "    }\n",
       "    code{\n",
       "      font-size: 78%;\n",
       "    }\n",
       "    .rendered_html code{\n",
       "        background-color: transparent;\n",
       "        white-space: inherit;   \n",
       "    }\n",
       "    ul{\n",
       "        /* color:#447adb; */  \n",
       "        margin: 2em;\n",
       "    }\n",
       "    ul li{\n",
       "        padding-left: 0.5em; \n",
       "        margin-bottom: 0.5em; \n",
       "        margin-top: 0.5em; \n",
       "    }\n",
       "    ul li li{\n",
       "        padding-left: 0.2em; \n",
       "        margin-bottom: 0.2em; \n",
       "        margin-top: 0.2em; \n",
       "    }\n",
       "    ol{\n",
       "        /* color:#447adb; */  \n",
       "        margin: 2em;\n",
       "    }\n",
       "    ol li{\n",
       "        padding-left: 0.5em; \n",
       "        margin-bottom: 0.5em; \n",
       "        margin-top: 0.5em; \n",
       "    }\n",
       "    /*.prompt{\n",
       "        display: None;\n",
       "    } */\n",
       "    ul li{\n",
       "        padding-left: 0.5em; \n",
       "        margin-bottom: 0.5em; \n",
       "        margin-top: 0.2em; \n",
       "    }\n",
       "    a:link{\n",
       "       font-weight: bold;\n",
       "       color:#447adb;\n",
       "    }\n",
       "    a:visited{\n",
       "       font-weight: bold;\n",
       "       color: #1d3b84;\n",
       "    }\n",
       "    a:hover{\n",
       "       font-weight: bold;\n",
       "       color: #1d3b84;\n",
       "    }\n",
       "    a:focus{\n",
       "       font-weight: bold;\n",
       "       color:#447adb;\n",
       "    }\n",
       "    a:active{\n",
       "       font-weight: bold;\n",
       "       color:#447adb;\n",
       "    }\n",
       "    .rendered_html :link {\n",
       "       text-decoration: none; \n",
       "    }\n",
       "    .rendered_html :hover {\n",
       "       text-decoration: none; \n",
       "    }\n",
       "    .rendered_html :visited {\n",
       "      text-decoration: none;\n",
       "    }\n",
       "    .rendered_html :focus {\n",
       "      text-decoration: none;\n",
       "    }\n",
       "    .rendered_html :active {\n",
       "      text-decoration: none;\n",
       "    }\n",
       "    .warning{\n",
       "        color: rgb( 240, 20, 20 )\n",
       "    } \n",
       "    hr {\n",
       "      color: #f3f3f3;\n",
       "      background-color: #f3f3f3;\n",
       "      height: 1px;\n",
       "    }\n",
       "    blockquote{\n",
       "      display:block;\n",
       "      background: #f3f3f3;\n",
       "      font-family: \"Open sans\",verdana,arial,sans-serif;\n",
       "      width:610px;\n",
       "      padding: 15px 15px 15px 15px;\n",
       "      text-align:justify;\n",
       "      text-justify:inter-word;\n",
       "      }\n",
       "      blockquote p {\n",
       "        margin-bottom: 0;\n",
       "        line-height: 125%;\n",
       "        font-size: 100%;\n",
       "        text-align: center;\n",
       "      }\n",
       "   /* element.style {\n",
       "    } */  \n",
       "</style>\n",
       "<script>\n",
       "    MathJax.Hub.Config({\n",
       "                        TeX: {\n",
       "                           extensions: [\"AMSmath.js\"]\n",
       "                           },\n",
       "                tex2jax: {\n",
       "                    inlineMath: [ [\"$\",\"$\"], [\"\\\\(\",\"\\\\)\"] ],\n",
       "                    displayMath: [ [\"$$\",\"$$\"], [\"\\\\[\",\"\\\\]\"] ]\n",
       "                },\n",
       "                displayAlign: \"center\", // Change this to \"center\" to center equations.\n",
       "                \"HTML-CSS\": {\n",
       "                    styles: {\".MathJax_Display\": {\"margin\": 4}}\n",
       "                }\n",
       "        });\n",
       "</script>\n"
      ],
      "text/plain": [
       "<IPython.core.display.HTML at 0x7fde10fe9b90>"
      ]
     },
     "metadata": {},
     "output_type": "display_data"
    }
   ],
   "source": [
    "# CSS styling within IPython notebook\n",
    "from IPython.display import display, HTML\n",
    "display(HTML(open('../custom.css').read()))"
   ]
  }
 ],
 "metadata": {
  "kernelspec": {
   "display_name": "Python 2",
   "language": "python",
   "name": "python2"
  },
  "language_info": {
   "codemirror_mode": {
    "name": "ipython",
    "version": 2
   },
   "file_extension": ".py",
   "mimetype": "text/x-python",
   "name": "python",
   "nbconvert_exporter": "python",
   "pygments_lexer": "ipython2",
   "version": "2.7.11"
  }
 },
 "nbformat": 4,
 "nbformat_minor": 0
}
